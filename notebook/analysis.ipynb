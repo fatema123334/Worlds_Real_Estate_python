{
 "cells": [
  {
   "cell_type": "code",
   "execution_count": 49,
   "id": "e05edc36-9a88-40fd-b431-a7eb3a14f9c4",
   "metadata": {},
   "outputs": [],
   "source": [
    "import pandas as pd"
   ]
  },
  {
   "cell_type": "code",
   "execution_count": 50,
   "id": "3d6b667e-5f67-4d1e-bf65-6710c373eb2e",
   "metadata": {
    "scrolled": true
   },
   "outputs": [
    {
     "data": {
      "text/html": [
       "<div>\n",
       "<style scoped>\n",
       "    .dataframe tbody tr th:only-of-type {\n",
       "        vertical-align: middle;\n",
       "    }\n",
       "\n",
       "    .dataframe tbody tr th {\n",
       "        vertical-align: top;\n",
       "    }\n",
       "\n",
       "    .dataframe thead th {\n",
       "        text-align: right;\n",
       "    }\n",
       "</style>\n",
       "<table border=\"1\" class=\"dataframe\">\n",
       "  <thead>\n",
       "    <tr style=\"text-align: right;\">\n",
       "      <th></th>\n",
       "      <th>title</th>\n",
       "      <th>country</th>\n",
       "      <th>location</th>\n",
       "      <th>building_construction_year</th>\n",
       "      <th>building_total_floors</th>\n",
       "      <th>apartment_floor</th>\n",
       "      <th>apartment_rooms</th>\n",
       "      <th>apartment_bedrooms</th>\n",
       "      <th>apartment_bathrooms</th>\n",
       "      <th>apartment_total_area</th>\n",
       "      <th>apartment_living_area</th>\n",
       "      <th>price_in_USD</th>\n",
       "      <th>image</th>\n",
       "      <th>url</th>\n",
       "    </tr>\n",
       "  </thead>\n",
       "  <tbody>\n",
       "    <tr>\n",
       "      <th>0</th>\n",
       "      <td>2 room apartment 120 m² in Mediterranean Regio...</td>\n",
       "      <td>Turkey</td>\n",
       "      <td>Mediterranean Region, Turkey</td>\n",
       "      <td>NaN</td>\n",
       "      <td>5.0</td>\n",
       "      <td>1.0</td>\n",
       "      <td>3.0</td>\n",
       "      <td>2.0</td>\n",
       "      <td>2.0</td>\n",
       "      <td>120 m²</td>\n",
       "      <td>110 m²</td>\n",
       "      <td>315209.0</td>\n",
       "      <td>https://realting.com/uploads/bigSlider/ab3/888...</td>\n",
       "      <td>https://realting.com/property-for-sale/turkey/...</td>\n",
       "    </tr>\n",
       "    <tr>\n",
       "      <th>1</th>\n",
       "      <td>4 room villa 500 m² in Kalkan, Turkey</td>\n",
       "      <td>Turkey</td>\n",
       "      <td>Kalkan, Mediterranean Region, Kas, Turkey</td>\n",
       "      <td>2021.0</td>\n",
       "      <td>2.0</td>\n",
       "      <td>NaN</td>\n",
       "      <td>NaN</td>\n",
       "      <td>NaN</td>\n",
       "      <td>NaN</td>\n",
       "      <td>500 m²</td>\n",
       "      <td>480 m²</td>\n",
       "      <td>1108667.0</td>\n",
       "      <td>https://realting.com/uploads/bigSlider/87b/679...</td>\n",
       "      <td>https://realting.com/property-for-sale/turkey/...</td>\n",
       "    </tr>\n",
       "    <tr>\n",
       "      <th>2</th>\n",
       "      <td>1 room apartment 65 m² in Antalya, Turkey</td>\n",
       "      <td>Turkey</td>\n",
       "      <td>Mediterranean Region, Antalya, Turkey</td>\n",
       "      <td>NaN</td>\n",
       "      <td>5.0</td>\n",
       "      <td>2.0</td>\n",
       "      <td>2.0</td>\n",
       "      <td>1.0</td>\n",
       "      <td>1.0</td>\n",
       "      <td>65 m²</td>\n",
       "      <td>60 m²</td>\n",
       "      <td>173211.0</td>\n",
       "      <td>https://realting.com/uploads/bigSlider/030/a11...</td>\n",
       "      <td>https://realting.com/property-for-sale/turkey/...</td>\n",
       "    </tr>\n",
       "    <tr>\n",
       "      <th>3</th>\n",
       "      <td>1 room apartment  in Pattaya, Thailand</td>\n",
       "      <td>Thailand</td>\n",
       "      <td>Chon Buri Province, Pattaya, Thailand</td>\n",
       "      <td>2020.0</td>\n",
       "      <td>15.0</td>\n",
       "      <td>5.0</td>\n",
       "      <td>2.0</td>\n",
       "      <td>1.0</td>\n",
       "      <td>1.0</td>\n",
       "      <td>NaN</td>\n",
       "      <td>40 m²</td>\n",
       "      <td>99900.0</td>\n",
       "      <td>https://realting.com/uploads/bigSlider/e9a/e06...</td>\n",
       "      <td>https://realting.com/property-for-sale/thailan...</td>\n",
       "    </tr>\n",
       "    <tr>\n",
       "      <th>4</th>\n",
       "      <td>2 room apartment  in Pattaya, Thailand</td>\n",
       "      <td>Thailand</td>\n",
       "      <td>Chon Buri Province, Pattaya, Thailand</td>\n",
       "      <td>2026.0</td>\n",
       "      <td>8.0</td>\n",
       "      <td>3.0</td>\n",
       "      <td>3.0</td>\n",
       "      <td>2.0</td>\n",
       "      <td>1.0</td>\n",
       "      <td>NaN</td>\n",
       "      <td>36 m²</td>\n",
       "      <td>67000.0</td>\n",
       "      <td>https://realting.com/uploads/bigSlider/453/aa2...</td>\n",
       "      <td>https://realting.com/property-for-sale/thailan...</td>\n",
       "    </tr>\n",
       "  </tbody>\n",
       "</table>\n",
       "</div>"
      ],
      "text/plain": [
       "                                               title   country  \\\n",
       "0  2 room apartment 120 m² in Mediterranean Regio...    Turkey   \n",
       "1              4 room villa 500 m² in Kalkan, Turkey    Turkey   \n",
       "2          1 room apartment 65 m² in Antalya, Turkey    Turkey   \n",
       "3             1 room apartment  in Pattaya, Thailand  Thailand   \n",
       "4             2 room apartment  in Pattaya, Thailand  Thailand   \n",
       "\n",
       "                                    location  building_construction_year  \\\n",
       "0               Mediterranean Region, Turkey                         NaN   \n",
       "1  Kalkan, Mediterranean Region, Kas, Turkey                      2021.0   \n",
       "2      Mediterranean Region, Antalya, Turkey                         NaN   \n",
       "3      Chon Buri Province, Pattaya, Thailand                      2020.0   \n",
       "4      Chon Buri Province, Pattaya, Thailand                      2026.0   \n",
       "\n",
       "   building_total_floors  apartment_floor  apartment_rooms  \\\n",
       "0                    5.0              1.0              3.0   \n",
       "1                    2.0              NaN              NaN   \n",
       "2                    5.0              2.0              2.0   \n",
       "3                   15.0              5.0              2.0   \n",
       "4                    8.0              3.0              3.0   \n",
       "\n",
       "   apartment_bedrooms  apartment_bathrooms apartment_total_area  \\\n",
       "0                 2.0                  2.0               120 m²   \n",
       "1                 NaN                  NaN               500 m²   \n",
       "2                 1.0                  1.0                65 m²   \n",
       "3                 1.0                  1.0                  NaN   \n",
       "4                 2.0                  1.0                  NaN   \n",
       "\n",
       "  apartment_living_area  price_in_USD  \\\n",
       "0                110 m²      315209.0   \n",
       "1                480 m²     1108667.0   \n",
       "2                 60 m²      173211.0   \n",
       "3                 40 m²       99900.0   \n",
       "4                 36 m²       67000.0   \n",
       "\n",
       "                                               image  \\\n",
       "0  https://realting.com/uploads/bigSlider/ab3/888...   \n",
       "1  https://realting.com/uploads/bigSlider/87b/679...   \n",
       "2  https://realting.com/uploads/bigSlider/030/a11...   \n",
       "3  https://realting.com/uploads/bigSlider/e9a/e06...   \n",
       "4  https://realting.com/uploads/bigSlider/453/aa2...   \n",
       "\n",
       "                                                 url  \n",
       "0  https://realting.com/property-for-sale/turkey/...  \n",
       "1  https://realting.com/property-for-sale/turkey/...  \n",
       "2  https://realting.com/property-for-sale/turkey/...  \n",
       "3  https://realting.com/property-for-sale/thailan...  \n",
       "4  https://realting.com/property-for-sale/thailan...  "
      ]
     },
     "execution_count": 50,
     "metadata": {},
     "output_type": "execute_result"
    }
   ],
   "source": [
    "df = pd.read_csv(\"newdf.csv\")\n",
    "df.head()"
   ]
  },
  {
   "cell_type": "code",
   "execution_count": 59,
   "id": "a17992b6-dfab-405e-85fd-2805ea8f8456",
   "metadata": {
    "scrolled": true
   },
   "outputs": [
    {
     "data": {
      "text/html": [
       "<div>\n",
       "<style scoped>\n",
       "    .dataframe tbody tr th:only-of-type {\n",
       "        vertical-align: middle;\n",
       "    }\n",
       "\n",
       "    .dataframe tbody tr th {\n",
       "        vertical-align: top;\n",
       "    }\n",
       "\n",
       "    .dataframe thead th {\n",
       "        text-align: right;\n",
       "    }\n",
       "</style>\n",
       "<table border=\"1\" class=\"dataframe\">\n",
       "  <thead>\n",
       "    <tr style=\"text-align: right;\">\n",
       "      <th></th>\n",
       "      <th>title</th>\n",
       "      <th>country</th>\n",
       "      <th>location</th>\n",
       "      <th>building_construction_year</th>\n",
       "      <th>building_total_floors</th>\n",
       "      <th>apartment_floor</th>\n",
       "      <th>apartment_rooms</th>\n",
       "      <th>apartment_bedrooms</th>\n",
       "      <th>apartment_bathrooms</th>\n",
       "      <th>apartment_total_area</th>\n",
       "      <th>apartment_living_area</th>\n",
       "      <th>price_in_USD</th>\n",
       "      <th>image</th>\n",
       "      <th>url</th>\n",
       "    </tr>\n",
       "  </thead>\n",
       "  <tbody>\n",
       "    <tr>\n",
       "      <th>0</th>\n",
       "      <td>2 room apartment 120 m² in Mediterranean Regio...</td>\n",
       "      <td>Turkey</td>\n",
       "      <td>Mediterranean Region, Turkey</td>\n",
       "      <td>NaN</td>\n",
       "      <td>5.0</td>\n",
       "      <td>1.0</td>\n",
       "      <td>3.0</td>\n",
       "      <td>2.0</td>\n",
       "      <td>2.0</td>\n",
       "      <td>120 m²</td>\n",
       "      <td>110 m²</td>\n",
       "      <td>315209.0</td>\n",
       "      <td>https://realting.com/uploads/bigSlider/ab3/888...</td>\n",
       "      <td>https://realting.com/property-for-sale/turkey/...</td>\n",
       "    </tr>\n",
       "    <tr>\n",
       "      <th>1</th>\n",
       "      <td>4 room villa 500 m² in Kalkan, Turkey</td>\n",
       "      <td>Turkey</td>\n",
       "      <td>Kalkan, Mediterranean Region, Kas, Turkey</td>\n",
       "      <td>2021.0</td>\n",
       "      <td>2.0</td>\n",
       "      <td>NaN</td>\n",
       "      <td>NaN</td>\n",
       "      <td>NaN</td>\n",
       "      <td>NaN</td>\n",
       "      <td>500 m²</td>\n",
       "      <td>480 m²</td>\n",
       "      <td>1108667.0</td>\n",
       "      <td>https://realting.com/uploads/bigSlider/87b/679...</td>\n",
       "      <td>https://realting.com/property-for-sale/turkey/...</td>\n",
       "    </tr>\n",
       "    <tr>\n",
       "      <th>2</th>\n",
       "      <td>1 room apartment 65 m² in Antalya, Turkey</td>\n",
       "      <td>Turkey</td>\n",
       "      <td>Mediterranean Region, Antalya, Turkey</td>\n",
       "      <td>NaN</td>\n",
       "      <td>5.0</td>\n",
       "      <td>2.0</td>\n",
       "      <td>2.0</td>\n",
       "      <td>1.0</td>\n",
       "      <td>1.0</td>\n",
       "      <td>65 m²</td>\n",
       "      <td>60 m²</td>\n",
       "      <td>173211.0</td>\n",
       "      <td>https://realting.com/uploads/bigSlider/030/a11...</td>\n",
       "      <td>https://realting.com/property-for-sale/turkey/...</td>\n",
       "    </tr>\n",
       "    <tr>\n",
       "      <th>3</th>\n",
       "      <td>1 room apartment  in Pattaya, Thailand</td>\n",
       "      <td>Thailand</td>\n",
       "      <td>Chon Buri Province, Pattaya, Thailand</td>\n",
       "      <td>2020.0</td>\n",
       "      <td>15.0</td>\n",
       "      <td>5.0</td>\n",
       "      <td>2.0</td>\n",
       "      <td>1.0</td>\n",
       "      <td>1.0</td>\n",
       "      <td>NaN</td>\n",
       "      <td>40 m²</td>\n",
       "      <td>99900.0</td>\n",
       "      <td>https://realting.com/uploads/bigSlider/e9a/e06...</td>\n",
       "      <td>https://realting.com/property-for-sale/thailan...</td>\n",
       "    </tr>\n",
       "    <tr>\n",
       "      <th>4</th>\n",
       "      <td>2 room apartment  in Pattaya, Thailand</td>\n",
       "      <td>Thailand</td>\n",
       "      <td>Chon Buri Province, Pattaya, Thailand</td>\n",
       "      <td>2026.0</td>\n",
       "      <td>8.0</td>\n",
       "      <td>3.0</td>\n",
       "      <td>3.0</td>\n",
       "      <td>2.0</td>\n",
       "      <td>1.0</td>\n",
       "      <td>NaN</td>\n",
       "      <td>36 m²</td>\n",
       "      <td>67000.0</td>\n",
       "      <td>https://realting.com/uploads/bigSlider/453/aa2...</td>\n",
       "      <td>https://realting.com/property-for-sale/thailan...</td>\n",
       "    </tr>\n",
       "  </tbody>\n",
       "</table>\n",
       "</div>"
      ],
      "text/plain": [
       "                                               title   country  \\\n",
       "0  2 room apartment 120 m² in Mediterranean Regio...    Turkey   \n",
       "1              4 room villa 500 m² in Kalkan, Turkey    Turkey   \n",
       "2          1 room apartment 65 m² in Antalya, Turkey    Turkey   \n",
       "3             1 room apartment  in Pattaya, Thailand  Thailand   \n",
       "4             2 room apartment  in Pattaya, Thailand  Thailand   \n",
       "\n",
       "                                    location  building_construction_year  \\\n",
       "0               Mediterranean Region, Turkey                         NaN   \n",
       "1  Kalkan, Mediterranean Region, Kas, Turkey                      2021.0   \n",
       "2      Mediterranean Region, Antalya, Turkey                         NaN   \n",
       "3      Chon Buri Province, Pattaya, Thailand                      2020.0   \n",
       "4      Chon Buri Province, Pattaya, Thailand                      2026.0   \n",
       "\n",
       "   building_total_floors  apartment_floor  apartment_rooms  \\\n",
       "0                    5.0              1.0              3.0   \n",
       "1                    2.0              NaN              NaN   \n",
       "2                    5.0              2.0              2.0   \n",
       "3                   15.0              5.0              2.0   \n",
       "4                    8.0              3.0              3.0   \n",
       "\n",
       "   apartment_bedrooms  apartment_bathrooms apartment_total_area  \\\n",
       "0                 2.0                  2.0               120 m²   \n",
       "1                 NaN                  NaN               500 m²   \n",
       "2                 1.0                  1.0                65 m²   \n",
       "3                 1.0                  1.0                  NaN   \n",
       "4                 2.0                  1.0                  NaN   \n",
       "\n",
       "  apartment_living_area  price_in_USD  \\\n",
       "0                110 m²      315209.0   \n",
       "1                480 m²     1108667.0   \n",
       "2                 60 m²      173211.0   \n",
       "3                 40 m²       99900.0   \n",
       "4                 36 m²       67000.0   \n",
       "\n",
       "                                               image  \\\n",
       "0  https://realting.com/uploads/bigSlider/ab3/888...   \n",
       "1  https://realting.com/uploads/bigSlider/87b/679...   \n",
       "2  https://realting.com/uploads/bigSlider/030/a11...   \n",
       "3  https://realting.com/uploads/bigSlider/e9a/e06...   \n",
       "4  https://realting.com/uploads/bigSlider/453/aa2...   \n",
       "\n",
       "                                                 url  \n",
       "0  https://realting.com/property-for-sale/turkey/...  \n",
       "1  https://realting.com/property-for-sale/turkey/...  \n",
       "2  https://realting.com/property-for-sale/turkey/...  \n",
       "3  https://realting.com/property-for-sale/thailan...  \n",
       "4  https://realting.com/property-for-sale/thailan...  "
      ]
     },
     "execution_count": 59,
     "metadata": {},
     "output_type": "execute_result"
    }
   ],
   "source": [
    "df = pd.DataFrame(df)\n",
    "df.head()"
   ]
  },
  {
   "cell_type": "code",
   "execution_count": 61,
   "id": "8176f9be-6fed-4dc9-ad05-84e32e9ac227",
   "metadata": {},
   "outputs": [
    {
     "name": "stdout",
     "output_type": "stream",
     "text": [
      "<class 'pandas.core.frame.DataFrame'>\n",
      "RangeIndex: 147536 entries, 0 to 147535\n",
      "Data columns (total 14 columns):\n",
      " #   Column                      Non-Null Count   Dtype  \n",
      "---  ------                      --------------   -----  \n",
      " 0   title                       147536 non-null  object \n",
      " 1   country                     147406 non-null  object \n",
      " 2   location                    147405 non-null  object \n",
      " 3   building_construction_year  64719 non-null   float64\n",
      " 4   building_total_floors       68224 non-null   float64\n",
      " 5   apartment_floor             54592 non-null   float64\n",
      " 6   apartment_rooms             74178 non-null   float64\n",
      " 7   apartment_bedrooms          36982 non-null   float64\n",
      " 8   apartment_bathrooms         55973 non-null   float64\n",
      " 9   apartment_total_area        141796 non-null  object \n",
      " 10  apartment_living_area       27712 non-null   object \n",
      " 11  price_in_USD                144961 non-null  float64\n",
      " 12  image                       147536 non-null  object \n",
      " 13  url                         147536 non-null  object \n",
      "dtypes: float64(7), object(7)\n",
      "memory usage: 15.8+ MB\n"
     ]
    }
   ],
   "source": [
    "df.info()"
   ]
  },
  {
   "cell_type": "code",
   "execution_count": 63,
   "id": "e43fe2a3-c1e2-42ed-adfe-2d334ae7be2b",
   "metadata": {},
   "outputs": [],
   "source": [
    "df = df.drop(columns = ['apartment_living_area'] )"
   ]
  },
  {
   "cell_type": "code",
   "execution_count": 65,
   "id": "0a3a7aa7-8db4-48ab-99c0-ce55d77b2790",
   "metadata": {},
   "outputs": [],
   "source": [
    "df = df.drop(columns = ['apartment_floor'] )\n",
    "df = df.drop(columns = ['apartment_bedrooms'] )"
   ]
  },
  {
   "cell_type": "code",
   "execution_count": 67,
   "id": "b61a3739-5bd3-4685-8ffd-a82e4d4a4584",
   "metadata": {},
   "outputs": [
    {
     "name": "stdout",
     "output_type": "stream",
     "text": [
      "<class 'pandas.core.frame.DataFrame'>\n",
      "RangeIndex: 147536 entries, 0 to 147535\n",
      "Data columns (total 11 columns):\n",
      " #   Column                      Non-Null Count   Dtype  \n",
      "---  ------                      --------------   -----  \n",
      " 0   title                       147536 non-null  object \n",
      " 1   country                     147406 non-null  object \n",
      " 2   location                    147405 non-null  object \n",
      " 3   building_construction_year  64719 non-null   float64\n",
      " 4   building_total_floors       68224 non-null   float64\n",
      " 5   apartment_rooms             74178 non-null   float64\n",
      " 6   apartment_bathrooms         55973 non-null   float64\n",
      " 7   apartment_total_area        141796 non-null  object \n",
      " 8   price_in_USD                144961 non-null  float64\n",
      " 9   image                       147536 non-null  object \n",
      " 10  url                         147536 non-null  object \n",
      "dtypes: float64(5), object(6)\n",
      "memory usage: 12.4+ MB\n"
     ]
    }
   ],
   "source": [
    "df.info()"
   ]
  },
  {
   "cell_type": "code",
   "execution_count": 209,
   "id": "53abf0de-fef8-415b-bba4-fb92b7a5c28f",
   "metadata": {},
   "outputs": [],
   "source": [
    "def remove_sign(value):\n",
    "    return str(value).replace(\"m²\", \"\").strip() \n",
    "\n",
    "df['apartment_total_area'] = pd.to_numeric(\n",
    "    df['apartment_total_area'].apply(remove_sign),\n",
    "    errors='coerce'  \n",
    ")\n"
   ]
  },
  {
   "cell_type": "code",
   "execution_count": 71,
   "id": "8ae8ab3d-d68f-461a-8e74-7e74d8812fff",
   "metadata": {},
   "outputs": [
    {
     "data": {
      "text/html": [
       "<div>\n",
       "<style scoped>\n",
       "    .dataframe tbody tr th:only-of-type {\n",
       "        vertical-align: middle;\n",
       "    }\n",
       "\n",
       "    .dataframe tbody tr th {\n",
       "        vertical-align: top;\n",
       "    }\n",
       "\n",
       "    .dataframe thead th {\n",
       "        text-align: right;\n",
       "    }\n",
       "</style>\n",
       "<table border=\"1\" class=\"dataframe\">\n",
       "  <thead>\n",
       "    <tr style=\"text-align: right;\">\n",
       "      <th></th>\n",
       "      <th>title</th>\n",
       "      <th>country</th>\n",
       "      <th>location</th>\n",
       "      <th>building_construction_year</th>\n",
       "      <th>building_total_floors</th>\n",
       "      <th>apartment_rooms</th>\n",
       "      <th>apartment_bathrooms</th>\n",
       "      <th>apartment_total_area</th>\n",
       "      <th>price_in_USD</th>\n",
       "      <th>image</th>\n",
       "      <th>url</th>\n",
       "    </tr>\n",
       "  </thead>\n",
       "  <tbody>\n",
       "    <tr>\n",
       "      <th>0</th>\n",
       "      <td>2 room apartment 120 m² in Mediterranean Regio...</td>\n",
       "      <td>Turkey</td>\n",
       "      <td>Mediterranean Region, Turkey</td>\n",
       "      <td>NaN</td>\n",
       "      <td>5.0</td>\n",
       "      <td>3.0</td>\n",
       "      <td>2.0</td>\n",
       "      <td>120.0</td>\n",
       "      <td>315209.0</td>\n",
       "      <td>https://realting.com/uploads/bigSlider/ab3/888...</td>\n",
       "      <td>https://realting.com/property-for-sale/turkey/...</td>\n",
       "    </tr>\n",
       "    <tr>\n",
       "      <th>1</th>\n",
       "      <td>4 room villa 500 m² in Kalkan, Turkey</td>\n",
       "      <td>Turkey</td>\n",
       "      <td>Kalkan, Mediterranean Region, Kas, Turkey</td>\n",
       "      <td>2021.0</td>\n",
       "      <td>2.0</td>\n",
       "      <td>NaN</td>\n",
       "      <td>NaN</td>\n",
       "      <td>500.0</td>\n",
       "      <td>1108667.0</td>\n",
       "      <td>https://realting.com/uploads/bigSlider/87b/679...</td>\n",
       "      <td>https://realting.com/property-for-sale/turkey/...</td>\n",
       "    </tr>\n",
       "    <tr>\n",
       "      <th>2</th>\n",
       "      <td>1 room apartment 65 m² in Antalya, Turkey</td>\n",
       "      <td>Turkey</td>\n",
       "      <td>Mediterranean Region, Antalya, Turkey</td>\n",
       "      <td>NaN</td>\n",
       "      <td>5.0</td>\n",
       "      <td>2.0</td>\n",
       "      <td>1.0</td>\n",
       "      <td>65.0</td>\n",
       "      <td>173211.0</td>\n",
       "      <td>https://realting.com/uploads/bigSlider/030/a11...</td>\n",
       "      <td>https://realting.com/property-for-sale/turkey/...</td>\n",
       "    </tr>\n",
       "    <tr>\n",
       "      <th>3</th>\n",
       "      <td>1 room apartment  in Pattaya, Thailand</td>\n",
       "      <td>Thailand</td>\n",
       "      <td>Chon Buri Province, Pattaya, Thailand</td>\n",
       "      <td>2020.0</td>\n",
       "      <td>15.0</td>\n",
       "      <td>2.0</td>\n",
       "      <td>1.0</td>\n",
       "      <td>NaN</td>\n",
       "      <td>99900.0</td>\n",
       "      <td>https://realting.com/uploads/bigSlider/e9a/e06...</td>\n",
       "      <td>https://realting.com/property-for-sale/thailan...</td>\n",
       "    </tr>\n",
       "    <tr>\n",
       "      <th>4</th>\n",
       "      <td>2 room apartment  in Pattaya, Thailand</td>\n",
       "      <td>Thailand</td>\n",
       "      <td>Chon Buri Province, Pattaya, Thailand</td>\n",
       "      <td>2026.0</td>\n",
       "      <td>8.0</td>\n",
       "      <td>3.0</td>\n",
       "      <td>1.0</td>\n",
       "      <td>NaN</td>\n",
       "      <td>67000.0</td>\n",
       "      <td>https://realting.com/uploads/bigSlider/453/aa2...</td>\n",
       "      <td>https://realting.com/property-for-sale/thailan...</td>\n",
       "    </tr>\n",
       "  </tbody>\n",
       "</table>\n",
       "</div>"
      ],
      "text/plain": [
       "                                               title   country  \\\n",
       "0  2 room apartment 120 m² in Mediterranean Regio...    Turkey   \n",
       "1              4 room villa 500 m² in Kalkan, Turkey    Turkey   \n",
       "2          1 room apartment 65 m² in Antalya, Turkey    Turkey   \n",
       "3             1 room apartment  in Pattaya, Thailand  Thailand   \n",
       "4             2 room apartment  in Pattaya, Thailand  Thailand   \n",
       "\n",
       "                                    location  building_construction_year  \\\n",
       "0               Mediterranean Region, Turkey                         NaN   \n",
       "1  Kalkan, Mediterranean Region, Kas, Turkey                      2021.0   \n",
       "2      Mediterranean Region, Antalya, Turkey                         NaN   \n",
       "3      Chon Buri Province, Pattaya, Thailand                      2020.0   \n",
       "4      Chon Buri Province, Pattaya, Thailand                      2026.0   \n",
       "\n",
       "   building_total_floors  apartment_rooms  apartment_bathrooms  \\\n",
       "0                    5.0              3.0                  2.0   \n",
       "1                    2.0              NaN                  NaN   \n",
       "2                    5.0              2.0                  1.0   \n",
       "3                   15.0              2.0                  1.0   \n",
       "4                    8.0              3.0                  1.0   \n",
       "\n",
       "   apartment_total_area  price_in_USD  \\\n",
       "0                 120.0      315209.0   \n",
       "1                 500.0     1108667.0   \n",
       "2                  65.0      173211.0   \n",
       "3                   NaN       99900.0   \n",
       "4                   NaN       67000.0   \n",
       "\n",
       "                                               image  \\\n",
       "0  https://realting.com/uploads/bigSlider/ab3/888...   \n",
       "1  https://realting.com/uploads/bigSlider/87b/679...   \n",
       "2  https://realting.com/uploads/bigSlider/030/a11...   \n",
       "3  https://realting.com/uploads/bigSlider/e9a/e06...   \n",
       "4  https://realting.com/uploads/bigSlider/453/aa2...   \n",
       "\n",
       "                                                 url  \n",
       "0  https://realting.com/property-for-sale/turkey/...  \n",
       "1  https://realting.com/property-for-sale/turkey/...  \n",
       "2  https://realting.com/property-for-sale/turkey/...  \n",
       "3  https://realting.com/property-for-sale/thailan...  \n",
       "4  https://realting.com/property-for-sale/thailan...  "
      ]
     },
     "execution_count": 71,
     "metadata": {},
     "output_type": "execute_result"
    }
   ],
   "source": [
    "df.head()"
   ]
  },
  {
   "cell_type": "code",
   "execution_count": 73,
   "id": "77573b2e-5dde-4b9e-a8de-2a7e3f09924f",
   "metadata": {},
   "outputs": [],
   "source": [
    "df[\"apartment_total_area\"] = df[\"apartment_total_area\"].astype(float)"
   ]
  },
  {
   "cell_type": "code",
   "execution_count": 75,
   "id": "3932f5ab-f1db-46e8-b0b7-817bc1fcd513",
   "metadata": {},
   "outputs": [
    {
     "name": "stdout",
     "output_type": "stream",
     "text": [
      "<class 'pandas.core.frame.DataFrame'>\n",
      "RangeIndex: 147536 entries, 0 to 147535\n",
      "Data columns (total 11 columns):\n",
      " #   Column                      Non-Null Count   Dtype  \n",
      "---  ------                      --------------   -----  \n",
      " 0   title                       147536 non-null  object \n",
      " 1   country                     147406 non-null  object \n",
      " 2   location                    147405 non-null  object \n",
      " 3   building_construction_year  64719 non-null   float64\n",
      " 4   building_total_floors       68224 non-null   float64\n",
      " 5   apartment_rooms             74178 non-null   float64\n",
      " 6   apartment_bathrooms         55973 non-null   float64\n",
      " 7   apartment_total_area        140762 non-null  float64\n",
      " 8   price_in_USD                144961 non-null  float64\n",
      " 9   image                       147536 non-null  object \n",
      " 10  url                         147536 non-null  object \n",
      "dtypes: float64(6), object(5)\n",
      "memory usage: 12.4+ MB\n"
     ]
    }
   ],
   "source": [
    "df.info()"
   ]
  },
  {
   "cell_type": "code",
   "execution_count": 77,
   "id": "c5fdc920-bb77-4ea9-956e-d325de889850",
   "metadata": {},
   "outputs": [],
   "source": [
    "import re\n",
    "\n",
    "def extract_rooms(title):\n",
    "\n",
    "    match = re.search(r'(\\d+)\\s*(bedroom|room|br)', title, re.IGNORECASE)\n",
    "    if match:\n",
    "        return int(match.group(1))\n",
    "    return None  \n",
    "\n",
    "df.apartment_rooms = df['title'].apply(extract_rooms)"
   ]
  },
  {
   "cell_type": "code",
   "execution_count": 79,
   "id": "68dd25af-be90-4f77-b589-fd9da96ebb66",
   "metadata": {},
   "outputs": [
    {
     "data": {
      "text/plain": [
       "title                          0.000000\n",
       "country                        0.088114\n",
       "location                       0.088792\n",
       "building_construction_year    56.133418\n",
       "building_total_floors         53.757727\n",
       "apartment_rooms               14.888570\n",
       "apartment_bathrooms           62.061463\n",
       "apartment_total_area           4.591422\n",
       "price_in_USD                   1.745337\n",
       "image                          0.000000\n",
       "url                            0.000000\n",
       "dtype: float64"
      ]
     },
     "execution_count": 79,
     "metadata": {},
     "output_type": "execute_result"
    }
   ],
   "source": [
    "df.isnull().mean()*100"
   ]
  },
  {
   "cell_type": "code",
   "execution_count": 81,
   "id": "a090b0e1-02ff-4065-b447-a7763781a073",
   "metadata": {},
   "outputs": [],
   "source": [
    "df[\"country\"] = df[\"country\"].fillna(df[\"country\"].mode()[0])\n",
    "df[\"location\"] = df[\"location\"].fillna(df[\"location\"].mode()[0])\n"
   ]
  },
  {
   "cell_type": "code",
   "execution_count": 83,
   "id": "2010c2f0-32e1-4623-8b81-89af79929d20",
   "metadata": {},
   "outputs": [],
   "source": [
    "df[\"building_construction_year\"] = df[\"building_construction_year\"].fillna(df[\"building_construction_year\"].median())\n",
    "df[\"building_total_floors\"] = df[\"building_total_floors\"].fillna(df[\"building_total_floors\"].median())"
   ]
  },
  {
   "cell_type": "code",
   "execution_count": 85,
   "id": "ca937690-5294-4e74-9ad1-f3be205f00ce",
   "metadata": {},
   "outputs": [],
   "source": [
    "df[\"building_construction_year\"] = df[\"building_construction_year\"].fillna(df[\"building_construction_year\"].mode()[0])"
   ]
  },
  {
   "cell_type": "code",
   "execution_count": 87,
   "id": "b0e24399-6aff-4d98-a6ac-d0bd9479cc28",
   "metadata": {},
   "outputs": [
    {
     "data": {
      "text/plain": [
       "title                          0.000000\n",
       "country                        0.000000\n",
       "location                       0.000000\n",
       "building_construction_year     0.000000\n",
       "building_total_floors          0.000000\n",
       "apartment_rooms               14.888570\n",
       "apartment_bathrooms           62.061463\n",
       "apartment_total_area           4.591422\n",
       "price_in_USD                   1.745337\n",
       "image                          0.000000\n",
       "url                            0.000000\n",
       "dtype: float64"
      ]
     },
     "execution_count": 87,
     "metadata": {},
     "output_type": "execute_result"
    }
   ],
   "source": [
    "df.isnull().mean()*100"
   ]
  },
  {
   "cell_type": "code",
   "execution_count": 89,
   "id": "15325704-11f2-4076-ab6c-d54ce103da5a",
   "metadata": {},
   "outputs": [
    {
     "data": {
      "text/plain": [
       "0    2021.0\n",
       "Name: building_construction_year, dtype: float64"
      ]
     },
     "execution_count": 89,
     "metadata": {},
     "output_type": "execute_result"
    }
   ],
   "source": [
    "df.building_construction_year.mode()"
   ]
  },
  {
   "cell_type": "code",
   "execution_count": 91,
   "id": "05601b90-eb70-4e51-ac2a-290045b90821",
   "metadata": {},
   "outputs": [
    {
     "data": {
      "text/plain": [
       "(147536, 11)"
      ]
     },
     "execution_count": 91,
     "metadata": {},
     "output_type": "execute_result"
    }
   ],
   "source": [
    "df.shape"
   ]
  },
  {
   "cell_type": "code",
   "execution_count": 93,
   "id": "4e66c5c9-d7c4-43ca-81be-045bda77035d",
   "metadata": {},
   "outputs": [],
   "source": [
    "df.to_excel('output.xlsx', index=False)"
   ]
  },
  {
   "cell_type": "code",
   "execution_count": 97,
   "id": "1faace0b-b84d-4e57-8167-c9562b7959a4",
   "metadata": {},
   "outputs": [],
   "source": [
    "df = df.dropna(subset = ['price_in_USD','apartment_total_area'])"
   ]
  },
  {
   "cell_type": "code",
   "execution_count": 99,
   "id": "366ed7aa-3270-4f34-ac4a-2310ac708556",
   "metadata": {
    "scrolled": true
   },
   "outputs": [
    {
     "data": {
      "text/plain": [
       "title                             0\n",
       "country                           0\n",
       "location                          0\n",
       "building_construction_year        0\n",
       "building_total_floors             0\n",
       "apartment_rooms               18956\n",
       "apartment_bathrooms           85016\n",
       "apartment_total_area              0\n",
       "price_in_USD                      0\n",
       "image                             0\n",
       "url                               0\n",
       "dtype: int64"
      ]
     },
     "execution_count": 99,
     "metadata": {},
     "output_type": "execute_result"
    }
   ],
   "source": [
    "df.isnull().sum()"
   ]
  },
  {
   "cell_type": "code",
   "execution_count": 101,
   "id": "706d12d4-87a5-40ad-ba24-e6115b8103a9",
   "metadata": {},
   "outputs": [],
   "source": [
    "df[\"apartment_rooms\"] = df[\"apartment_rooms\"].fillna(df[\"apartment_rooms\"].median())"
   ]
  },
  {
   "cell_type": "code",
   "execution_count": 122,
   "id": "fa86e14b-689e-4cfd-94bb-c59ba387583c",
   "metadata": {},
   "outputs": [
    {
     "data": {
      "text/plain": [
       "title                         0\n",
       "country                       0\n",
       "location                      0\n",
       "building_construction_year    0\n",
       "building_total_floors         0\n",
       "apartment_rooms               0\n",
       "apartment_bathrooms           0\n",
       "apartment_total_area          0\n",
       "price_in_USD                  0\n",
       "image                         0\n",
       "url                           0\n",
       "dtype: int64"
      ]
     },
     "execution_count": 122,
     "metadata": {},
     "output_type": "execute_result"
    }
   ],
   "source": [
    "df.isnull().sum()"
   ]
  },
  {
   "cell_type": "code",
   "execution_count": 105,
   "id": "9d3b6616-889e-49eb-8463-ab7175261b2e",
   "metadata": {},
   "outputs": [
    {
     "data": {
      "text/plain": [
       "(139291, 11)"
      ]
     },
     "execution_count": 105,
     "metadata": {},
     "output_type": "execute_result"
    }
   ],
   "source": [
    "df.shape"
   ]
  },
  {
   "cell_type": "code",
   "execution_count": 207,
   "id": "39f33adb-9e37-4960-8f0f-1180d7171485",
   "metadata": {},
   "outputs": [],
   "source": [
    "\n",
    "villa_avg_bathrooms = round(df.loc[df[\"title\"].str.contains(\"villa\", case=False, na=False), \"apartment_bathrooms\"].mean())\n",
    "\n",
    "df[\"apartment_bathrooms\"] = df.apply(\n",
    "    lambda row: villa_avg_bathrooms if pd.isna(row[\"apartment_bathrooms\"]) and \"villa\" in str(row[\"title\"]).lower()\n",
    "    else row[\"apartment_bathrooms\"], axis=1\n",
    ")\n",
    "\n",
    "df[\"apartment_bathrooms\"] = df[\"apartment_bathrooms\"].fillna(1)"
   ]
  },
  {
   "cell_type": "code",
   "execution_count": 137,
   "id": "67d16d02-add2-451f-b64f-771b348e1dda",
   "metadata": {},
   "outputs": [
    {
     "data": {
      "text/html": [
       "<div>\n",
       "<style scoped>\n",
       "    .dataframe tbody tr th:only-of-type {\n",
       "        vertical-align: middle;\n",
       "    }\n",
       "\n",
       "    .dataframe tbody tr th {\n",
       "        vertical-align: top;\n",
       "    }\n",
       "\n",
       "    .dataframe thead th {\n",
       "        text-align: right;\n",
       "    }\n",
       "</style>\n",
       "<table border=\"1\" class=\"dataframe\">\n",
       "  <thead>\n",
       "    <tr style=\"text-align: right;\">\n",
       "      <th></th>\n",
       "      <th>title</th>\n",
       "      <th>country</th>\n",
       "      <th>location</th>\n",
       "      <th>building_construction_year</th>\n",
       "      <th>building_total_floors</th>\n",
       "      <th>apartment_rooms</th>\n",
       "      <th>apartment_bathrooms</th>\n",
       "      <th>apartment_total_area</th>\n",
       "      <th>price_in_USD</th>\n",
       "      <th>image</th>\n",
       "      <th>url</th>\n",
       "    </tr>\n",
       "  </thead>\n",
       "  <tbody>\n",
       "    <tr>\n",
       "      <th>0</th>\n",
       "      <td>2 room apartment 120 m² in Mediterranean Regio...</td>\n",
       "      <td>Turkey</td>\n",
       "      <td>Mediterranean Region, Turkey</td>\n",
       "      <td>2021.0</td>\n",
       "      <td>5.0</td>\n",
       "      <td>2.0</td>\n",
       "      <td>2.0</td>\n",
       "      <td>120.0</td>\n",
       "      <td>315209.0</td>\n",
       "      <td>https://realting.com/uploads/bigSlider/ab3/888...</td>\n",
       "      <td>https://realting.com/property-for-sale/turkey/...</td>\n",
       "    </tr>\n",
       "    <tr>\n",
       "      <th>1</th>\n",
       "      <td>4 room villa 500 m² in Kalkan, Turkey</td>\n",
       "      <td>Turkey</td>\n",
       "      <td>Kalkan, Mediterranean Region, Kas, Turkey</td>\n",
       "      <td>2021.0</td>\n",
       "      <td>2.0</td>\n",
       "      <td>4.0</td>\n",
       "      <td>2.0</td>\n",
       "      <td>500.0</td>\n",
       "      <td>1108667.0</td>\n",
       "      <td>https://realting.com/uploads/bigSlider/87b/679...</td>\n",
       "      <td>https://realting.com/property-for-sale/turkey/...</td>\n",
       "    </tr>\n",
       "    <tr>\n",
       "      <th>2</th>\n",
       "      <td>1 room apartment 65 m² in Antalya, Turkey</td>\n",
       "      <td>Turkey</td>\n",
       "      <td>Mediterranean Region, Antalya, Turkey</td>\n",
       "      <td>2021.0</td>\n",
       "      <td>5.0</td>\n",
       "      <td>1.0</td>\n",
       "      <td>1.0</td>\n",
       "      <td>65.0</td>\n",
       "      <td>173211.0</td>\n",
       "      <td>https://realting.com/uploads/bigSlider/030/a11...</td>\n",
       "      <td>https://realting.com/property-for-sale/turkey/...</td>\n",
       "    </tr>\n",
       "    <tr>\n",
       "      <th>5</th>\n",
       "      <td>1 room apartment 28 m² in Batumi, Georgia</td>\n",
       "      <td>Georgia</td>\n",
       "      <td>Abkhazia, Batumi, Georgia</td>\n",
       "      <td>2026.0</td>\n",
       "      <td>5.0</td>\n",
       "      <td>1.0</td>\n",
       "      <td>1.0</td>\n",
       "      <td>28.0</td>\n",
       "      <td>35622.0</td>\n",
       "      <td>https://realting.com/uploads/bigSlider/16f/406...</td>\n",
       "      <td>https://realting.com/property-for-sale/georgia...</td>\n",
       "    </tr>\n",
       "    <tr>\n",
       "      <th>6</th>\n",
       "      <td>4 room apartment 245 m² in Yesiloez, Turkey</td>\n",
       "      <td>Turkey</td>\n",
       "      <td>Yesiloez, Mediterranean Region, Alanya, Turkey</td>\n",
       "      <td>2007.0</td>\n",
       "      <td>2.0</td>\n",
       "      <td>4.0</td>\n",
       "      <td>4.0</td>\n",
       "      <td>245.0</td>\n",
       "      <td>274415.0</td>\n",
       "      <td>https://realting.com/uploads/bigSlider/9c8/6f1...</td>\n",
       "      <td>https://realting.com/property-for-sale/turkey/...</td>\n",
       "    </tr>\n",
       "  </tbody>\n",
       "</table>\n",
       "</div>"
      ],
      "text/plain": [
       "                                               title  country  \\\n",
       "0  2 room apartment 120 m² in Mediterranean Regio...   Turkey   \n",
       "1              4 room villa 500 m² in Kalkan, Turkey   Turkey   \n",
       "2          1 room apartment 65 m² in Antalya, Turkey   Turkey   \n",
       "5          1 room apartment 28 m² in Batumi, Georgia  Georgia   \n",
       "6        4 room apartment 245 m² in Yesiloez, Turkey   Turkey   \n",
       "\n",
       "                                         location  building_construction_year  \\\n",
       "0                    Mediterranean Region, Turkey                      2021.0   \n",
       "1       Kalkan, Mediterranean Region, Kas, Turkey                      2021.0   \n",
       "2           Mediterranean Region, Antalya, Turkey                      2021.0   \n",
       "5                       Abkhazia, Batumi, Georgia                      2026.0   \n",
       "6  Yesiloez, Mediterranean Region, Alanya, Turkey                      2007.0   \n",
       "\n",
       "   building_total_floors  apartment_rooms  apartment_bathrooms  \\\n",
       "0                    5.0              2.0                  2.0   \n",
       "1                    2.0              4.0                  2.0   \n",
       "2                    5.0              1.0                  1.0   \n",
       "5                    5.0              1.0                  1.0   \n",
       "6                    2.0              4.0                  4.0   \n",
       "\n",
       "   apartment_total_area  price_in_USD  \\\n",
       "0                 120.0      315209.0   \n",
       "1                 500.0     1108667.0   \n",
       "2                  65.0      173211.0   \n",
       "5                  28.0       35622.0   \n",
       "6                 245.0      274415.0   \n",
       "\n",
       "                                               image  \\\n",
       "0  https://realting.com/uploads/bigSlider/ab3/888...   \n",
       "1  https://realting.com/uploads/bigSlider/87b/679...   \n",
       "2  https://realting.com/uploads/bigSlider/030/a11...   \n",
       "5  https://realting.com/uploads/bigSlider/16f/406...   \n",
       "6  https://realting.com/uploads/bigSlider/9c8/6f1...   \n",
       "\n",
       "                                                 url  \n",
       "0  https://realting.com/property-for-sale/turkey/...  \n",
       "1  https://realting.com/property-for-sale/turkey/...  \n",
       "2  https://realting.com/property-for-sale/turkey/...  \n",
       "5  https://realting.com/property-for-sale/georgia...  \n",
       "6  https://realting.com/property-for-sale/turkey/...  "
      ]
     },
     "execution_count": 137,
     "metadata": {},
     "output_type": "execute_result"
    }
   ],
   "source": [
    "df.head()"
   ]
  },
  {
   "cell_type": "code",
   "execution_count": 113,
   "id": "bd0eaa24-4e74-4caa-9428-848a3d866119",
   "metadata": {},
   "outputs": [
    {
     "data": {
      "text/plain": [
       "(139291, 11)"
      ]
     },
     "execution_count": 113,
     "metadata": {},
     "output_type": "execute_result"
    }
   ],
   "source": [
    "df.shape"
   ]
  },
  {
   "cell_type": "code",
   "execution_count": 115,
   "id": "6218c790-d316-491e-bc3b-c8194ae7c393",
   "metadata": {},
   "outputs": [],
   "source": [
    "df.to_excel('final2.xlsx', index=False)"
   ]
  },
  {
   "cell_type": "code",
   "execution_count": 120,
   "id": "9902762a-2d67-4bd3-836b-2abed4eb54a4",
   "metadata": {},
   "outputs": [
    {
     "data": {
      "text/html": [
       "<div>\n",
       "<style scoped>\n",
       "    .dataframe tbody tr th:only-of-type {\n",
       "        vertical-align: middle;\n",
       "    }\n",
       "\n",
       "    .dataframe tbody tr th {\n",
       "        vertical-align: top;\n",
       "    }\n",
       "\n",
       "    .dataframe thead th {\n",
       "        text-align: right;\n",
       "    }\n",
       "</style>\n",
       "<table border=\"1\" class=\"dataframe\">\n",
       "  <thead>\n",
       "    <tr style=\"text-align: right;\">\n",
       "      <th></th>\n",
       "      <th>building_construction_year</th>\n",
       "      <th>building_total_floors</th>\n",
       "      <th>apartment_rooms</th>\n",
       "      <th>apartment_bathrooms</th>\n",
       "      <th>apartment_total_area</th>\n",
       "      <th>price_in_USD</th>\n",
       "    </tr>\n",
       "  </thead>\n",
       "  <tbody>\n",
       "    <tr>\n",
       "      <th>building_construction_year</th>\n",
       "      <td>1.000000</td>\n",
       "      <td>0.037731</td>\n",
       "      <td>-0.004640</td>\n",
       "      <td>0.001700</td>\n",
       "      <td>0.023583</td>\n",
       "      <td>0.019106</td>\n",
       "    </tr>\n",
       "    <tr>\n",
       "      <th>building_total_floors</th>\n",
       "      <td>0.037731</td>\n",
       "      <td>1.000000</td>\n",
       "      <td>-0.217931</td>\n",
       "      <td>-0.022616</td>\n",
       "      <td>-0.205332</td>\n",
       "      <td>-0.045975</td>\n",
       "    </tr>\n",
       "    <tr>\n",
       "      <th>apartment_rooms</th>\n",
       "      <td>-0.004640</td>\n",
       "      <td>-0.217931</td>\n",
       "      <td>1.000000</td>\n",
       "      <td>0.167365</td>\n",
       "      <td>0.601103</td>\n",
       "      <td>0.329947</td>\n",
       "    </tr>\n",
       "    <tr>\n",
       "      <th>apartment_bathrooms</th>\n",
       "      <td>0.001700</td>\n",
       "      <td>-0.022616</td>\n",
       "      <td>0.167365</td>\n",
       "      <td>1.000000</td>\n",
       "      <td>0.251438</td>\n",
       "      <td>0.278825</td>\n",
       "    </tr>\n",
       "    <tr>\n",
       "      <th>apartment_total_area</th>\n",
       "      <td>0.023583</td>\n",
       "      <td>-0.205332</td>\n",
       "      <td>0.601103</td>\n",
       "      <td>0.251438</td>\n",
       "      <td>1.000000</td>\n",
       "      <td>0.606355</td>\n",
       "    </tr>\n",
       "    <tr>\n",
       "      <th>price_in_USD</th>\n",
       "      <td>0.019106</td>\n",
       "      <td>-0.045975</td>\n",
       "      <td>0.329947</td>\n",
       "      <td>0.278825</td>\n",
       "      <td>0.606355</td>\n",
       "      <td>1.000000</td>\n",
       "    </tr>\n",
       "  </tbody>\n",
       "</table>\n",
       "</div>"
      ],
      "text/plain": [
       "                            building_construction_year  building_total_floors  \\\n",
       "building_construction_year                    1.000000               0.037731   \n",
       "building_total_floors                         0.037731               1.000000   \n",
       "apartment_rooms                              -0.004640              -0.217931   \n",
       "apartment_bathrooms                           0.001700              -0.022616   \n",
       "apartment_total_area                          0.023583              -0.205332   \n",
       "price_in_USD                                  0.019106              -0.045975   \n",
       "\n",
       "                            apartment_rooms  apartment_bathrooms  \\\n",
       "building_construction_year        -0.004640             0.001700   \n",
       "building_total_floors             -0.217931            -0.022616   \n",
       "apartment_rooms                    1.000000             0.167365   \n",
       "apartment_bathrooms                0.167365             1.000000   \n",
       "apartment_total_area               0.601103             0.251438   \n",
       "price_in_USD                       0.329947             0.278825   \n",
       "\n",
       "                            apartment_total_area  price_in_USD  \n",
       "building_construction_year              0.023583      0.019106  \n",
       "building_total_floors                  -0.205332     -0.045975  \n",
       "apartment_rooms                         0.601103      0.329947  \n",
       "apartment_bathrooms                     0.251438      0.278825  \n",
       "apartment_total_area                    1.000000      0.606355  \n",
       "price_in_USD                            0.606355      1.000000  "
      ]
     },
     "execution_count": 120,
     "metadata": {},
     "output_type": "execute_result"
    }
   ],
   "source": [
    "df.corr( numeric_only=True)"
   ]
  },
  {
   "cell_type": "code",
   "execution_count": 135,
   "id": "f6c055ad-d258-4627-8a6a-72b8d9a7a803",
   "metadata": {},
   "outputs": [
    {
     "data": {
      "text/plain": [
       "country\n",
       "Belarus            7.155699e+04\n",
       "Georgia            9.367309e+04\n",
       "Uzbekistan         1.121757e+05\n",
       "Serbia             1.318079e+05\n",
       "Lithuania          1.745765e+05\n",
       "Russia             1.872747e+05\n",
       "Northern Cyprus    1.911516e+05\n",
       "Hungary            2.017325e+05\n",
       "Cyprus             2.048474e+05\n",
       "Armenia            2.094104e+05\n",
       "Finland            2.330647e+05\n",
       "Czech Republic     2.718118e+05\n",
       "Thailand           2.863264e+05\n",
       "Indonesia          3.498047e+05\n",
       "Poland             3.618820e+05\n",
       "Turkey             3.728973e+05\n",
       "Austria            4.799625e+05\n",
       "Latvia             4.941828e+05\n",
       "Montenegro         5.071164e+05\n",
       "Australia          5.590000e+05\n",
       "Croatia            6.000372e+05\n",
       "Spain              6.400384e+05\n",
       "Greece             6.443143e+05\n",
       "Portugal           9.422481e+05\n",
       "United States      1.049414e+06\n",
       "UAE                1.187211e+06\n",
       "Italy              1.474302e+06\n",
       "Name: price_in_USD, dtype: float64"
      ]
     },
     "execution_count": 135,
     "metadata": {},
     "output_type": "execute_result"
    }
   ],
   "source": [
    "df.groupby([\"country\"])[\"price_in_USD\"].mean().sort_count(as)\n"
   ]
  },
  {
   "cell_type": "code",
   "execution_count": 150,
   "id": "ce19145c-ade0-4a04-9830-b35ec7f67a1e",
   "metadata": {},
   "outputs": [
    {
     "data": {
      "text/plain": [
       "country\n",
       "Italy              1.474302e+06\n",
       "UAE                1.187211e+06\n",
       "United States      1.049414e+06\n",
       "Portugal           9.422481e+05\n",
       "Greece             6.443143e+05\n",
       "Spain              6.400384e+05\n",
       "Croatia            6.000372e+05\n",
       "Australia          5.590000e+05\n",
       "Montenegro         5.071164e+05\n",
       "Latvia             4.941828e+05\n",
       "Austria            4.799625e+05\n",
       "Turkey             3.728973e+05\n",
       "Poland             3.618820e+05\n",
       "Indonesia          3.498047e+05\n",
       "Thailand           2.863264e+05\n",
       "Czech Republic     2.718118e+05\n",
       "Finland            2.330647e+05\n",
       "Armenia            2.094104e+05\n",
       "Cyprus             2.048474e+05\n",
       "Hungary            2.017325e+05\n",
       "Northern Cyprus    1.911516e+05\n",
       "Russia             1.872747e+05\n",
       "Lithuania          1.745765e+05\n",
       "Serbia             1.318079e+05\n",
       "Uzbekistan         1.121757e+05\n",
       "Georgia            9.367309e+04\n",
       "Belarus            7.155699e+04\n",
       "Name: price_in_USD, dtype: float64"
      ]
     },
     "execution_count": 150,
     "metadata": {},
     "output_type": "execute_result"
    }
   ],
   "source": [
    "df.groupby([\"country\"])[\"price_in_USD\"].mean().sort_values(ascending=False)"
   ]
  },
  {
   "cell_type": "code",
   "execution_count": 148,
   "id": "d1145358-6797-407c-ba6c-66e3600b62b2",
   "metadata": {},
   "outputs": [],
   "source": [
    "import matplotlib"
   ]
  },
  {
   "cell_type": "code",
   "execution_count": 205,
   "id": "5d2acd71-ecc2-4df0-9992-e0e17ce0438a",
   "metadata": {},
   "outputs": [
    {
     "data": {
      "image/png": "[encoded data removed]",
      "text/plain": [
       "<Figure size 1000x600 with 1 Axes>"
      ]
     },
     "metadata": {},
     "output_type": "display_data"
    }
   ],
   "source": [
    "import matplotlib.pyplot as plt\n",
    "\n",
    "top_5 = df.groupby([\"country\"])[\"price_in_USD\"].mean().sort_values(ascending=False).head(5)\n",
    "\n",
    "plt.figure(figsize=(10, 6))\n",
    "top_5.plot(kind=\"barh\", color=\"pink\", edgecolor=\"black\")\n",
    "\n",
    "plt.xlabel(\"Average Price (USD)\")\n",
    "plt.ylabel(\"Country\")\n",
    "plt.title(\"Top 5 Countries with Highest Average Property Prices\")\n",
    "\n",
    "plt.xticks(rotation=45)\n",
    "\n",
    "plt.show()"
   ]
  },
  {
   "cell_type": "code",
   "execution_count": 203,
   "id": "35eba4a8-ace8-45be-b43d-bcd00ac87a8f",
   "metadata": {},
   "outputs": [
    {
     "data": {
      "image/png": "[encoded data removed]",
      "text/plain": [
       "<Figure size 1000x600 with 1 Axes>"
      ]
     },
     "metadata": {},
     "output_type": "display_data"
    }
   ],
   "source": [
    "import matplotlib.pyplot as plt\n",
    "\n",
    "top_5 = df.groupby([\"country\"])[\"price_in_USD\"].mean().sort_values(ascending=True).head(5)\n",
    "\n",
    "plt.figure(figsize=(10, 6))\n",
    "top_5.plot(kind=\"barh\", color=\"DarkOrange\", edgecolor=\"black\")\n",
    "\n",
    "plt.xlabel(\"Average Price (USD)\")\n",
    "plt.ylabel(\"Country\")\n",
    "plt.title(\"Top 5 Countries with Lowest Average Property Prices\")\n",
    "\n",
    "plt.xticks(rotation=45)\n",
    "\n",
    "plt.show()"
   ]
  },
  {
   "cell_type": "code",
   "execution_count": 201,
   "id": "730c8beb-1039-410a-8380-f3bd8d864c8e",
   "metadata": {},
   "outputs": [
    {
     "data": {
      "image/png": "[encoded data removed]",
      "text/plain": [
       "<Figure size 1000x600 with 1 Axes>"
      ]
     },
     "metadata": {},
     "output_type": "display_data"
    }
   ],
   "source": [
    "import matplotlib.pyplot as plt\n",
    "\n",
    "plt.figure(figsize=(10, 6))\n",
    "plt.scatter(table2['price_in_USD'], table2.index, color='red')\n",
    "\n",
    "plt.xlabel('Correlation')\n",
    "plt.ylabel('Elements of Comparison')\n",
    "plt.title('Correlation With The Price')\n",
    "\n",
    "plt.grid(True)\n",
    "\n",
    "plt.show()"
   ]
  },
  {
   "cell_type": "code",
   "execution_count": 185,
   "id": "9e239b37-7a9a-4425-aa02-1934c6b18689",
   "metadata": {},
   "outputs": [
    {
     "data": {
      "image/png": "[encoded data removed]",
      "text/plain": [
       "<Figure size 640x480 with 1 Axes>"
      ]
     },
     "metadata": {},
     "output_type": "display_data"
    }
   ],
   "source": [
    "top_5 = df['country'].value_counts().head(5)\n",
    "top_5.plot(kind='bar', color='Darkred', edgecolor='black')\n",
    "plt.title('Top 5 Countries with the most listed')\n",
    "plt.xlabel('Country')\n",
    "plt.ylabel('Appearance')\n",
    "plt.xticks(rotation=0)\n",
    "plt.tight_layout()\n",
    "plt.show()"
   ]
  },
  {
   "cell_type": "code",
   "execution_count": null,
   "id": "b6dae234-f2c2-41b7-a2c4-1b3a7d3bea68",
   "metadata": {},
   "outputs": [],
   "source": []
  }
 ],
 "metadata": {
  "kernelspec": {
   "display_name": "Python [conda env:base] *",
   "language": "python",
   "name": "conda-base-py"
  },
  "language_info": {
   "codemirror_mode": {
    "name": "ipython",
    "version": 3
   },
   "file_extension": ".py",
   "mimetype": "text/x-python",
   "name": "python",
   "nbconvert_exporter": "python",
   "pygments_lexer": "ipython3",
   "version": "3.12.7"
  }
 },
 "nbformat": 4,
 "nbformat_minor": 5
}
